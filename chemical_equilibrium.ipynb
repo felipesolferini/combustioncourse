{
  "nbformat": 4,
  "nbformat_minor": 0,
  "metadata": {
    "colab": {
      "provenance": [],
      "include_colab_link": true
    },
    "kernelspec": {
      "name": "python3",
      "display_name": "Python 3"
    },
    "language_info": {
      "name": "python"
    }
  },
  "cells": [
    {
      "cell_type": "markdown",
      "metadata": {
        "id": "view-in-github",
        "colab_type": "text"
      },
      "source": [
        "<a href=\"https://colab.research.google.com/github/felipesolferini/combustioncourse/blob/main/chemical_equilibrium.ipynb\" target=\"_parent\"><img src=\"https://colab.research.google.com/assets/colab-badge.svg\" alt=\"Open In Colab\"/></a>"
      ]
    },
    {
      "cell_type": "code",
      "source": [
        "!pip install cantera"
      ],
      "metadata": {
        "colab": {
          "base_uri": "https://localhost:8080/"
        },
        "id": "eHn7o4sXZejb",
        "outputId": "92e97cb4-0ab7-4a24-de9c-86c10d4354c4"
      },
      "execution_count": 1,
      "outputs": [
        {
          "output_type": "stream",
          "name": "stdout",
          "text": [
            "Collecting cantera\n",
            "  Downloading Cantera-3.0.0-cp310-cp310-manylinux_2_17_x86_64.manylinux2014_x86_64.whl (5.9 MB)\n",
            "\u001b[2K     \u001b[90m━━━━━━━━━━━━━━━━━━━━━━━━━━━━━━━━━━━━━━━━\u001b[0m \u001b[32m5.9/5.9 MB\u001b[0m \u001b[31m11.4 MB/s\u001b[0m eta \u001b[36m0:00:00\u001b[0m\n",
            "\u001b[?25hRequirement already satisfied: numpy>=1.12.0 in /usr/local/lib/python3.10/dist-packages (from cantera) (1.25.2)\n",
            "Collecting ruamel.yaml>=0.15.34 (from cantera)\n",
            "  Downloading ruamel.yaml-0.18.6-py3-none-any.whl (117 kB)\n",
            "\u001b[2K     \u001b[90m━━━━━━━━━━━━━━━━━━━━━━━━━━━━━━━━━━━━━━━━\u001b[0m \u001b[32m117.8/117.8 kB\u001b[0m \u001b[31m1.3 MB/s\u001b[0m eta \u001b[36m0:00:00\u001b[0m\n",
            "\u001b[?25hRequirement already satisfied: packaging in /usr/local/lib/python3.10/dist-packages (from cantera) (24.0)\n",
            "Collecting ruamel.yaml.clib>=0.2.7 (from ruamel.yaml>=0.15.34->cantera)\n",
            "  Downloading ruamel.yaml.clib-0.2.8-cp310-cp310-manylinux_2_17_x86_64.manylinux2014_x86_64.manylinux_2_24_x86_64.whl (526 kB)\n",
            "\u001b[2K     \u001b[90m━━━━━━━━━━━━━━━━━━━━━━━━━━━━━━━━━━━━━━━━\u001b[0m \u001b[32m526.7/526.7 kB\u001b[0m \u001b[31m980.2 kB/s\u001b[0m eta \u001b[36m0:00:00\u001b[0m\n",
            "\u001b[?25hInstalling collected packages: ruamel.yaml.clib, ruamel.yaml, cantera\n",
            "Successfully installed cantera-3.0.0 ruamel.yaml-0.18.6 ruamel.yaml.clib-0.2.8\n"
          ]
        }
      ]
    },
    {
      "cell_type": "code",
      "execution_count": 2,
      "metadata": {
        "colab": {
          "base_uri": "https://localhost:8080/"
        },
        "id": "NXmsIvuDZPMY",
        "outputId": "c9036d64-b3a7-42d3-ce08-73760d16e1a2"
      },
      "outputs": [
        {
          "output_type": "stream",
          "name": "stdout",
          "text": [
            "Adiabatic flame temperature of the gas: 2225.2572369030504 K\n",
            "\n",
            "       temperature   973 K\n",
            "          pressure   1.0132e+05 Pa\n",
            "           density   0.34041 kg/m^3\n",
            "  mean mol. weight   27.179 kg/kmol\n",
            "   phase of matter   gas\n",
            "\n",
            "                          1 kg             1 kmol     \n",
            "                     ---------------   ---------------\n",
            "          enthalpy       -2.1389e+06       -5.8132e+07  J\n",
            "   internal energy       -2.4365e+06       -6.6222e+07  J\n",
            "           entropy            8754.9        2.3795e+05  J/K\n",
            "    Gibbs function       -1.0657e+07       -2.8966e+08  J\n",
            " heat capacity c_p              1326             36040  J/K\n",
            " heat capacity c_v            1020.1             27725  J/K\n",
            "\n",
            "                      mass frac. Y      mole frac. X     chem. pot. / RT\n",
            "                     ---------------   ---------------   ---------------\n",
            "                H2         0.0016582          0.022355           -21.239\n",
            "                 H        5.9955e-12        1.6166e-10           -10.619\n",
            "                OH        1.4234e-12        2.2748e-12           -45.788\n",
            "               H2O            0.1168           0.17621           -56.407\n",
            "               CH4        2.2189e-08        3.7591e-08           -51.404\n",
            "                CO         0.0076443         0.0074175           -44.096\n",
            "               CO2           0.15267          0.094287           -79.265\n",
            "               HCO        5.0796e-14        4.7577e-14           -54.715\n",
            "              CH2O        1.0368e-10        9.3851e-11           -65.335\n",
            "             CH3OH        1.7926e-13        1.5206e-13           -86.573\n",
            "               NH2        7.6051e-15          1.29e-14           -33.807\n",
            "               NH3        1.2306e-06        1.9638e-06           -44.427\n",
            "                NO        1.5861e-14        1.4367e-14           -47.737\n",
            "               HCN        4.0843e-10        4.1075e-10           -32.115\n",
            "              HNCO        1.8644e-09        1.1777e-09           -67.284\n",
            "                N2           0.72123           0.69973           -25.137\n",
            "     [  +37 minor]        7.3597e-15        7.7112e-15  \n",
            "\n"
          ]
        },
        {
          "output_type": "stream",
          "name": "stderr",
          "text": [
            "<ipython-input-2-73abd96bbe66>:36: DeprecationWarning: FactoryBase::canonicalize: Model name 'IdealGas' is deprecated. Use 'ideal-gas' instead.\n",
            "  gas1 = ct.Solution(thermo=\"IdealGas\", species=species.values())\n"
          ]
        }
      ],
      "source": [
        "import cantera as ct\n",
        "import numpy as np\n",
        "import matplotlib.pyplot as plt\n",
        "import pandas as pd\n",
        "\n",
        "\n",
        "# Equivalence ratio of the combustion\n",
        "phi = 1.080\n",
        "\n",
        "#TEMPERATURE THAT YOU WANT TO KNOW THE EQUILIBRIUM COMPOSITION [K]\n",
        "\n",
        "temperature = 973\n",
        "\n",
        "# OXIDIZER COMPOSITION\n",
        "oxidizer_species = \"O2:1, N2:3.76\"\n",
        "\n",
        "# Name of GAS 1\n",
        "\n",
        "gas_name = 'gas1teste'\n",
        "\n",
        "gas_composition = {\n",
        "    \"CH4\": 95,\n",
        "    \"C2H6\": 5,\n",
        "    \"C3H8\": 0,\n",
        "    \"CO2\": 0,\n",
        "    \"N2\": 0,\n",
        "    \"H2\": 0}\n",
        "\n",
        "\n",
        "\n",
        "def adiabatic_flame_temperature(phi, gas_composition, oxidizer):\n",
        "\n",
        "    species = {S.name: S for S in ct.Species.list_from_file(\"gri30.yaml\")}\n",
        "\n",
        "    # Create an IdealGas object with the specified composition\n",
        "    gas1 = ct.Solution(thermo=\"IdealGas\", species=species.values())\n",
        "\n",
        "    gas1.TP = 300, ct.one_atm\n",
        "\n",
        "    gas1.set_equivalence_ratio(phi, gas_composition, oxidizer)\n",
        "\n",
        "    gas1.equilibrate(\"HP\")\n",
        "\n",
        "    print(\"Adiabatic flame temperature of the gas:\", gas1.T, \"K\")\n",
        "\n",
        "    adiabatic_flame_temperature = gas1.T\n",
        "\n",
        "    gas1.TP = temperature, ct.one_atm\n",
        "\n",
        "    gas1.equilibrate(\"TP\")\n",
        "\n",
        "    gas1()\n",
        "\n",
        "    return adiabatic_flame_temperature\n",
        "\n",
        "\n",
        "#Finding the adiabatic flame temperature of gas1\n",
        "\n",
        "max_temp = adiabatic_flame_temperature(phi,gas_composition,oxidizer_species)"
      ]
    }
  ]
}